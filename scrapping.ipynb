{
 "cells": [
  {
   "cell_type": "code",
   "execution_count": 79,
   "metadata": {},
   "outputs": [],
   "source": [
    "import requests\n",
    "from bs4 import BeautifulSoup"
   ]
  },
  {
   "cell_type": "code",
   "execution_count": 234,
   "metadata": {},
   "outputs": [],
   "source": [
    "url = \"https://en.wikipedia.org/wiki/List_of_Illinois_locations_by_per_capita_income\"\n",
    "\n",
    "response = requests.get(url)\n",
    "soup = BeautifulSoup(response.content, 'html.parser')\n",
    "\n",
    "name_to_income_capita = {}\n",
    "for link in soup.find_all('li'):\n",
    "    if '$' in link.text:\n",
    "       coun = link.text.split('–')[0][:-1]\n",
    "       if ',' in coun:\n",
    "           coun = coun.split(',')[0]\n",
    "       inc = link.text.split('$')[1]\n",
    "       name_to_income_capita[coun.lower()] = inc\n",
    "# In wikipedia seems the poorest country and the previous one is zero, therefore, it should be zero too.\n",
    "name_to_income_capita['Ohlman'] = 0"
   ]
  },
  {
   "cell_type": "code",
   "execution_count": 219,
   "metadata": {},
   "outputs": [],
   "source": [
    "url2 = \"https://www.zipdatamaps.com/en/us/zip-list/state/zip-codes-in-illinois\"\n",
    "response2 = requests.get(url2)\n",
    "soup2 = BeautifulSoup(response2.content, 'html.parser')\n",
    "\n",
    "cp_to_county = {}\n",
    "cp_to_name = {}\n",
    "for row in soup2.find_all('tr'):\n",
    "    soup3 = BeautifulSoup(str(row), 'html.parser')\n",
    "    columns = soup3.find_all('a')\n",
    "    if len(columns) > 2:\n",
    "        county_name = columns[2].text.split(\" County\")[0]\n",
    "        cp_to_county[columns[0].text] = county_name.lower()\n",
    "        cp_to_name[columns[0].text] = columns[1].text.lower()"
   ]
  },
  {
   "cell_type": "code",
   "execution_count": null,
   "metadata": {},
   "outputs": [
    {
     "name": "stdout",
     "output_type": "stream",
     "text": [
      "141\n"
     ]
    }
   ],
   "source": [
    "names_cp_no_wiki = []\n",
    "for key, value in cp_to_name.items():\n",
    "    # Hay 143 CP que no tienen el map al nombre en wikipedia\n",
    "    if (value.lower() not in name_to_income_capita.keys()):\n",
    "        names_cp_no_wiki.append(value)\n",
    "        continue\n",
    "#print(len(names_cp_no_wiki))"
   ]
  },
  {
   "cell_type": "code",
   "execution_count": null,
   "metadata": {},
   "outputs": [],
   "source": [
    "county_to_income_capita = {}\n",
    "county_capita_list = soup.find_all('tr')[8:112]\n",
    "for row in county_capita_list:\n",
    "    soup4 = BeautifulSoup(str(row), 'html.parser')\n",
    "    soup5 = BeautifulSoup(str(row), 'html.parser')\n",
    "    columns = soup4.find_all('td')\n",
    "    count = soup4.find_all('a')\n",
    "    county_to_income_capita[count[0].text.lower()] = columns[2].text[1:-1]\n",
    "\n"
   ]
  },
  {
   "cell_type": "code",
   "execution_count": 217,
   "metadata": {},
   "outputs": [],
   "source": [
    "# harcoded some values for the naming\n",
    "county_to_income_capita['de witt'] = county_to_income_capita['dewitt']\n",
    "county_to_income_capita['saint clair'] = county_to_income_capita['st. clair']"
   ]
  },
  {
   "cell_type": "code",
   "execution_count": 220,
   "metadata": {},
   "outputs": [],
   "source": [
    "for key, value in cp_to_county.items():\n",
    "    if value not in county_to_income_capita.keys():\n",
    "        print(f'El valor del cp: {value} no se encuentra en {key}')"
   ]
  }
 ],
 "metadata": {
  "kernelspec": {
   "display_name": ".venv",
   "language": "python",
   "name": "python3"
  },
  "language_info": {
   "codemirror_mode": {
    "name": "ipython",
    "version": 3
   },
   "file_extension": ".py",
   "mimetype": "text/x-python",
   "name": "python",
   "nbconvert_exporter": "python",
   "pygments_lexer": "ipython3",
   "version": "3.13.0"
  }
 },
 "nbformat": 4,
 "nbformat_minor": 2
}
