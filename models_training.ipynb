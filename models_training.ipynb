{
 "cells": [
  {
   "cell_type": "code",
<<<<<<< HEAD
   "execution_count": 1,
=======
   "execution_count": null,
>>>>>>> 64d8fc7adc486fc6c38fb872fa648f29da90de27
   "id": "f11bb493-6856-4f69-b59e-3281cd8dca6e",
   "metadata": {},
   "outputs": [],
   "source": [
    "import pandas as pd\n",
    "import numpy as np\n",
    "import matplotlib.pyplot as plt\n",
    "import seaborn as sns\n",
    "\n",
    "from sklearn.model_selection import train_test_split,  KFold, cross_val_score\n",
    "from sklearn.linear_model import LinearRegression, Ridge, RidgeCV, Lasso, LassoCV\n",
    "from sklearn.metrics import mean_squared_error, r2_score, mean_absolute_error\n",
    "from sklearn.preprocessing import MinMaxScaler, StandardScaler\n",
    "from sklearn import set_config\n",
    "from sklearn.ensemble import RandomForestRegressor\n",
    "from sklearn.metrics import mean_squared_error, mean_absolute_error, r2_score\n",
    "\n",
    "\n",
    "from yellowbrick.regressor import AlphaSelection\n",
    "\n",
    "from statsmodels.genmod.generalized_linear_model import GLM\n",
    "import statsmodels.api as sm\n",
    "from scipy import stats\n",
    "\n",
    "import warnings\n",
    "\n",
    "set_config(display='text')\n",
    "warnings.filterwarnings('ignore')\n",
    "\n",
    "sns.set()\n",
    "pd.set_option('display.precision', 3)"
   ]
  },
  {
   "cell_type": "code",
   "execution_count": 2,
   "id": "5b2c9761-3b0d-42c6-98a3-713a520950e2",
   "metadata": {},
   "outputs": [],
   "source": [
    "# Leemos del csv\n",
    "df_train = pd.read_csv(\"../processed_train.csv\", header= 0, delimiter = ',')\n",
    "df_test = pd.read_csv(\"../processed_test.csv\",  header= 0, delimiter = ',')"
   ]
  },
  {
   "cell_type": "markdown",
   "id": "822c7c86-b4e6-43eb-8f8a-d24b25540b7e",
   "metadata": {},
   "source": [
    "## Escalado"
   ]
  },
  {
   "cell_type": "code",
   "execution_count": 3,
   "id": "0c890f1e-d70a-4ee8-b01c-d0be7a3d6948",
   "metadata": {},
   "outputs": [],
   "source": [
    "scaler = MinMaxScaler()\n",
    "\n",
    "X_train = df_train.drop(columns=['close_price'])\n",
    "y_train = df_train['close_price']\n",
    "\n",
    "X_test = df_test.drop(columns=['close_price'])\n",
    "\n",
    "X_train_scaled = scaler.fit_transform(X_train)\n",
    "X_test_scaled = scaler.transform(X_test)\n",
    "\n",
    "X_train_scaled = pd.DataFrame(X_train_scaled, columns=X_train.columns)\n",
    "X_test_scaled = pd.DataFrame(X_test_scaled, columns=X_test.columns)"
   ]
  },
  {
   "cell_type": "markdown",
   "id": "33337ad5-eef0-4ed9-bd44-3729c573791c",
   "metadata": {},
   "source": [
    "### Regresión lineal"
   ]
  },
  {
   "cell_type": "code",
   "execution_count": 4,
   "id": "5b9b3d92-0c7c-44e6-b86b-f9923634b0c4",
   "metadata": {},
   "outputs": [
    {
     "data": {
      "text/plain": [
       "LinearRegression()"
      ]
     },
     "execution_count": 4,
     "metadata": {},
     "output_type": "execute_result"
    }
   ],
   "source": [
    "model = LinearRegression()\n",
    "model.fit(X_train_scaled, y_train)"
   ]
  },
  {
   "cell_type": "code",
   "execution_count": 5,
   "id": "8e554e9c-1c30-4d70-b2b9-5aec0fc25dcf",
   "metadata": {},
   "outputs": [
    {
     "name": "stdout",
     "output_type": "stream",
     "text": [
      "Mean Squared Error (MSE): 83691327126.04489\n",
      "Mean Absolute Error (MAE): 135267.3246466616\n",
      "R^2: 0.44003922381215654\n"
     ]
    }
   ],
   "source": [
    "train_predictions = model.predict(X_train_scaled)\n",
    "\n",
    "mse = mean_squared_error(y_train, train_predictions)\n",
    "print(f\"Mean Squared Error (MSE): {mse}\")\n",
    "\n",
    "# Calcular el Mean Absolute Error (MAE)\n",
    "mae = mean_absolute_error(y_train, train_predictions)\n",
    "print(f\"Mean Absolute Error (MAE): {mae}\")\n",
    "\n",
    "r2 = model.score(X_train_scaled, y_train)\n",
    "print(f\"R^2: {r2}\")\n",
    "\n",
    "#test_predictions = model.predict(X_test_scaled)"
   ]
  },
  {
   "cell_type": "markdown",
   "id": "bd673f4f-5c1a-47f0-8901-41cd3b660559",
   "metadata": {},
   "source": [
    "## Random Forest"
   ]
  },
  {
   "cell_type": "code",
   "execution_count": 6,
   "id": "67c07bf0-909c-434a-ba5b-3bb8317e99f7",
   "metadata": {},
   "outputs": [
    {
     "name": "stdout",
     "output_type": "stream",
     "text": [
      "Random Forest - Training MSE: 9753988094.990732\n",
      "Random Forest - Training MAE: 32533.98651975131\n",
      "Random Forest - Training R^2: 0.9347381511064812\n"
     ]
    }
   ],
   "source": [
    "from sklearn.ensemble import RandomForestRegressor\n",
    "from sklearn.metrics import mean_squared_error, mean_absolute_error, r2_score\n",
    "\n",
    "# Crear y entrenar el modelo de Random Forest\n",
    "rf_model = RandomForestRegressor(n_estimators=100, random_state=42)\n",
    "rf_model.fit(X_train_scaled, y_train)\n",
    "\n",
    "# Realizar predicciones en el conjunto de prueba\n",
    "train_predictions_rf = rf_model.predict(X_train_scaled)\n",
    "\n",
    "# Evaluar en entrenamiento\n",
    "mse_train_rf = mean_squared_error(y_train, train_predictions_rf)\n",
    "mae_train_rf = mean_absolute_error(y_train, train_predictions_rf)\n",
    "r2_train_rf = r2_score(y_train, train_predictions_rf)\n",
    "\n",
    "print(f\"Random Forest - Training MSE: {mse_train_rf}\")\n",
    "print(f\"Random Forest - Training MAE: {mae_train_rf}\")\n",
    "print(f\"Random Forest - Training R^2: {r2_train_rf}\")\n",
    "\n",
    "# faltaria test prediction"
   ]
  },
  {
   "cell_type": "markdown",
   "id": "338d9263-3ef4-48c7-bee6-5f5434ab611f",
   "metadata": {},
   "source": [
    "## SVM lineal"
   ]
  },
  {
   "cell_type": "code",
   "execution_count": null,
   "id": "a49a536e-0f1a-4537-a972-fe9177136a1a",
   "metadata": {},
   "outputs": [],
   "source": [
    "# xd"
   ]
  },
  {
   "cell_type": "markdown",
   "id": "5e244e19-f025-43ad-9414-0f63e233e591",
   "metadata": {},
   "source": [
    "## XGBoost"
   ]
  },
  {
   "cell_type": "code",
   "execution_count": null,
   "id": "d59d4ec3-c1b6-4530-a84b-5435b0487329",
   "metadata": {},
   "outputs": [],
   "source": [
    "\n",
    "# Separate features and target variable\n",
    "X_train = df_train_processed.drop(columns=['close_price'])\n",
    "y_train = df_train_processed['close_price']\n",
    "\n",
    "# Initialize the model\n",
    "rf_model = RandomForestRegressor(n_estimators=100, random_state=42)\n",
    "\n",
    "# Train the model\n",
    "rf_model.fit(X_train, y_train)\n",
    "\n",
    "# Predict on the training set\n",
    "y_train_pred = rf_model.predict(X_train)\n",
    "\n",
    "# Calculate error metrics\n",
    "mse = mean_squared_error(y_train, y_train_pred)\n",
    "mae = mean_absolute_error(y_train, y_train_pred)\n",
    "r2 = r2_score(y_train, y_train_pred)\n",
    "\n",
    "print(f\"Mean Squared Error (MSE): {mse}\")\n",
    "print(f\"Mean Absolute Error (MAE): {mae}\")\n",
    "print(f\"R-squared (R2): {r2}\")"
   ]
  }
 ],
 "metadata": {
  "kernelspec": {
   "display_name": "Python 3 (ipykernel)",
   "language": "python",
   "name": "python3"
  },
  "language_info": {
   "codemirror_mode": {
    "name": "ipython",
    "version": 3
   },
   "file_extension": ".py",
   "mimetype": "text/x-python",
   "name": "python",
   "nbconvert_exporter": "python",
   "pygments_lexer": "ipython3",
   "version": "3.11.0"
  }
 },
 "nbformat": 4,
 "nbformat_minor": 5
}
