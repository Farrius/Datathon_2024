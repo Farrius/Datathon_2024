{
 "cells": [
  {
   "cell_type": "code",
   "execution_count": 1,
   "id": "f11bb493-6856-4f69-b59e-3281cd8dca6e",
   "metadata": {},
   "outputs": [],
   "source": [
    "import pandas as pd\n",
    "import numpy as np\n",
    "import matplotlib.pyplot as plt\n",
    "import seaborn as sns\n",
    "\n",
    "from sklearn.model_selection import train_test_split,  KFold, cross_val_score\n",
    "from sklearn.linear_model import LinearRegression, Ridge, RidgeCV, Lasso, LassoCV\n",
    "from sklearn.metrics import mean_squared_error, r2_score, mean_absolute_error\n",
    "from sklearn.preprocessing import MinMaxScaler, StandardScaler\n",
    "from sklearn import set_config\n",
    "\n",
    "from yellowbrick.regressor import AlphaSelection\n",
    "\n",
    "from statsmodels.genmod.generalized_linear_model import GLM\n",
    "import statsmodels.api as sm\n",
    "from scipy import stats\n",
    "\n",
    "import warnings\n",
    "\n",
    "set_config(display='text')\n",
    "warnings.filterwarnings('ignore')\n",
    "\n",
    "sns.set()\n",
    "pd.set_option('display.precision', 3)"
   ]
  },
  {
   "cell_type": "code",
   "execution_count": 2,
   "id": "5b2c9761-3b0d-42c6-98a3-713a520950e2",
   "metadata": {},
   "outputs": [],
   "source": [
    "# Leemos del csv\n",
    "df_train = pd.read_csv(\"../processed_train.csv\", header= 0, delimiter = ',')\n",
    "df_test = pd.read_csv(\"../processed_test.csv\",  header= 0, delimiter = ',')"
   ]
  },
  {
   "cell_type": "markdown",
   "id": "822c7c86-b4e6-43eb-8f8a-d24b25540b7e",
   "metadata": {},
   "source": [
    "## Escalado"
   ]
  },
  {
   "cell_type": "code",
   "execution_count": 3,
   "id": "0c890f1e-d70a-4ee8-b01c-d0be7a3d6948",
   "metadata": {},
   "outputs": [],
   "source": [
    "scaler = MinMaxScaler()\n",
    "\n",
    "X_train = df_train.drop(columns=['close_price'])\n",
    "y_train = df_train['close_price']\n",
    "\n",
    "X_test = df_test.drop(columns=['close_price'])\n",
    "\n",
    "X_train_scaled = scaler.fit_transform(X_train)\n",
    "X_test_scaled = scaler.transform(X_test)\n",
    "\n",
    "X_train_scaled = pd.DataFrame(X_train_scaled, columns=X_train.columns)\n",
    "X_test_scaled = pd.DataFrame(X_test_scaled, columns=X_test.columns)"
   ]
  },
  {
   "cell_type": "markdown",
   "id": "33337ad5-eef0-4ed9-bd44-3729c573791c",
   "metadata": {},
   "source": [
    "### Regresion lineal"
   ]
  },
  {
   "cell_type": "code",
   "execution_count": 4,
   "id": "5b9b3d92-0c7c-44e6-b86b-f9923634b0c4",
   "metadata": {},
   "outputs": [
    {
     "data": {
      "text/plain": [
       "LinearRegression()"
      ]
     },
     "execution_count": 4,
     "metadata": {},
     "output_type": "execute_result"
    }
   ],
   "source": [
    "model = LinearRegression()\n",
    "model.fit(X_train_scaled, y_train)"
   ]
  },
  {
   "cell_type": "code",
   "execution_count": 5,
   "id": "8e554e9c-1c30-4d70-b2b9-5aec0fc25dcf",
   "metadata": {},
   "outputs": [
    {
     "name": "stdout",
     "output_type": "stream",
     "text": [
      "Mean Squared Error (MSE): 83691327126.04489\n",
      "Mean Absolute Error (MAE): 135267.3246466616\n",
      "R^2: 0.44003922381215654\n"
     ]
    }
   ],
   "source": [
    "train_predictions = model.predict(X_train_scaled)\n",
    "\n",
    "mse = mean_squared_error(y_train, train_predictions)\n",
    "print(f\"Mean Squared Error (MSE): {mse}\")\n",
    "\n",
    "# Calcular el Mean Absolute Error (MAE)\n",
    "mae = mean_absolute_error(y_train, train_predictions)\n",
    "print(f\"Mean Absolute Error (MAE): {mae}\")\n",
    "\n",
    "r2 = model.score(X_train_scaled, y_train)\n",
    "print(f\"R^2: {r2}\")\n",
    "\n",
    "#test_predictions = model.predict(X_test_scaled)"
   ]
  },
  {
   "cell_type": "markdown",
   "id": "644d9806-d58e-4293-a5e1-77486c4b9d5e",
   "metadata": {},
   "source": [
    "## Random Forest"
   ]
  },
  {
   "cell_type": "code",
   "execution_count": 12,
   "id": "fbd6df45-a9eb-41ea-9f29-b5eea8001c5d",
   "metadata": {},
   "outputs": [
    {
     "name": "stdout",
     "output_type": "stream",
     "text": [
      "Random Forest - Training MSE: 9753988094.990732\n",
      "Random Forest - Training MAE: 32533.98651975131\n",
      "Random Forest - Training R^2: 0.9347381511064812\n"
     ]
    }
   ],
   "source": [
    "from sklearn.ensemble import RandomForestRegressor\n",
    "from sklearn.metrics import mean_squared_error, mean_absolute_error, r2_score\n",
    "\n",
    "# Crear y entrenar el modelo de Random Forest\n",
    "rf_model = RandomForestRegressor(n_estimators=100, random_state=42)\n",
    "rf_model.fit(X_train_scaled, y_train)\n",
    "\n",
    "# Realizar predicciones en el conjunto de prueba\n",
    "train_predictions_rf = rf_model.predict(X_train_scaled)\n",
    "\n",
    "# Evaluar en entrenamiento\n",
    "mse_train_rf = mean_squared_error(y_train, train_predictions_rf)\n",
    "mae_train_rf = mean_absolute_error(y_train, train_predictions_rf)\n",
    "r2_train_rf = r2_score(y_train, train_predictions_rf)\n",
    "\n",
    "print(f\"Random Forest - Training MSE: {mse_train_rf}\")\n",
    "print(f\"Random Forest - Training MAE: {mae_train_rf}\")\n",
    "print(f\"Random Forest - Training R^2: {r2_train_rf}\")"
   ]
  },
  {
   "cell_type": "markdown",
   "id": "3603d362-d79b-41ea-9a41-32dc93b7a870",
   "metadata": {},
   "source": [
    "## Gradient Boosting"
   ]
  },
  {
   "cell_type": "code",
   "execution_count": null,
   "id": "fabc067e-7437-46e6-b0c5-0449daf0f986",
   "metadata": {},
   "outputs": [],
   "source": [
    "from sklearn.ensemble import GradientBoostingRegressor\n",
    "\n",
    "# Crear y entrenar el modelo de Gradient Boosting\n",
    "gb_model = GradientBoostingRegressor(n_estimators=100, random_state=42)\n",
    "gb_model.fit(X_train_scaled, y_train)\n",
    "\n",
    "# Realizar predicciones en el conjunto de prueba\n",
    "train_predictions_gb = gb_model.predict(X_train_scaled)\n",
    "\n",
    "# Evaluar en entrenamiento\n",
    "mse_train_gb = mean_squared_error(y_train, train_predictions_gb)\n",
    "mae_train_gb = mean_absolute_error(y_train, train_predictions_gb)\n",
    "r2_train_gb = r2_score(y_train, train_predictions_gb)\n",
    "\n",
    "print(f\"Gradient Boosting - Training MSE: {mse_train_gb}\")\n",
    "print(f\"Gradient Boosting - Training MAE: {mae_train_gb}\")\n",
    "print(f\"Gradient Boosting - Training R^2: {r2_train_gb}\")"
   ]
  },
  {
   "cell_type": "markdown",
   "id": "0c704afd-3ea2-492c-b3c2-46e32348dfb0",
   "metadata": {},
   "source": [
    "## SVM Regressor"
   ]
  },
  {
   "cell_type": "markdown",
   "id": "aafbb426-f169-4a25-a373-9c9c8774174b",
   "metadata": {},
   "source": [
    "## XGBoost"
   ]
  },
  {
   "cell_type": "code",
   "execution_count": 15,
   "id": "b0c0a8ed-b148-497c-8f77-127991b4b8ff",
   "metadata": {},
   "outputs": [
    {
     "name": "stdout",
     "output_type": "stream",
     "text": [
      "XGBoost - Training MSE: 2404595404.7893167\n",
      "XGBoost - Training MAE: 27035.049089267213\n",
      "XGBoost - Training R^2: 0.9839113662607398\n"
     ]
    }
   ],
   "source": [
    "import xgboost as xgb\n",
    "from sklearn.metrics import mean_squared_error, r2_score\n",
    "\n",
    "# Crear el modelo XGBoost\n",
    "xgb_model = xgb.XGBRegressor(n_estimators=500, learning_rate=0.3, max_depth=8, random_state=42)\n",
    "\n",
    "# Entrenar el modelo 0.991\n",
    "xgb_model.fit(X_train_scaled, y_train)\n",
    "\n",
    "# Realizar predicciones\n",
    "train_predictions_xgb = xgb_model.predict(X_train_scaled)\n",
    "\n",
    "# Evaluar en el conjunto de entrenamiento\n",
    "mse_train_xgb = mean_squared_error(y_train, train_predictions_xgb)\n",
    "mae_train_xgb = mean_absolute_error(y_train, train_predictions_xgb)\n",
    "r2_train_xgb = r2_score(y_train, train_predictions_xgb)\n",
    "\n",
    "print(f\"XGBoost - Training MSE: {mse_train_xgb}\")\n",
    "print(f\"XGBoost - Training MAE: {mae_train_xgb}\")\n",
    "print(f\"XGBoost - Training R^2: {r2_train_xgb}\")"
   ]
  }
 ],
 "metadata": {
  "kernelspec": {
   "display_name": "Python 3 (ipykernel)",
   "language": "python",
   "name": "python3"
  },
  "language_info": {
   "codemirror_mode": {
    "name": "ipython",
    "version": 3
   },
   "file_extension": ".py",
   "mimetype": "text/x-python",
   "name": "python",
   "nbconvert_exporter": "python",
   "pygments_lexer": "ipython3",
   "version": "3.11.0"
  }
 },
 "nbformat": 4,
 "nbformat_minor": 5
}
